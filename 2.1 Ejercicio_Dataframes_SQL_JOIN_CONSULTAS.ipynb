{
 "cells": [
  {
   "cell_type": "markdown",
   "id": "e2c6ce4e",
   "metadata": {},
   "source": [
    "# Ejercicio aplicado de DataFrames y Spark SQL"
   ]
  },
  {
   "cell_type": "code",
   "execution_count": 2,
   "id": "2ff2869e",
   "metadata": {},
   "outputs": [],
   "source": [
    "from pyspark.sql import SparkSession\n",
    "from pyspark.sql.functions import *\n",
    "import findspark, pyspark\n",
    "findspark.init()"
   ]
  },
  {
   "cell_type": "code",
   "execution_count": 3,
   "id": "364b2008",
   "metadata": {},
   "outputs": [],
   "source": [
    "spark_core = SparkSession.builder.getOrCreate()"
   ]
  },
  {
   "cell_type": "code",
   "execution_count": 18,
   "id": "670a122f",
   "metadata": {},
   "outputs": [],
   "source": [
    "data = [(1, \"AAA\", \"dept1\", 1000),\n",
    "        (2, \"BBB\", \"dept1\", 1100),\n",
    "        (3, \"CCC\", \"dept1\", 3000),\n",
    "        (4, \"DDD\", \"dept1\", 1500),\n",
    "        (5, \"EEE\", \"dept2\", 8000),\n",
    "        (6, \"FFF\", \"dept2\", 7200),\n",
    "        (7, \"GGG\", \"dept3\", 7100),\n",
    "        (8, \"HHH\", \"dept3\", 3700),\n",
    "        (9, \"III\", \"dept3\", 4500),\n",
    "        (10, \"JJJ\", \"dept5\", 3400),\n",
    "        (11, \"KKK\", \"dept5\", 3100),\n",
    "        (12, \"KFK\", \"dept5\", 3100),\n",
    "        (13, \"KKF\", \"dept5\", 3100),\n",
    "        (14, \"KBV\", \"dept6\", 4100)]\n",
    "\n",
    "dept = [(\"dept1\", \"Departament - 1\"),\n",
    "        (\"dept2\", \"Departament - 2\"),\n",
    "        (\"dept3\", \"Departament - 3\"),\n",
    "        (\"dept4\", \"Departament - 4\")]\n",
    "\n",
    "df = spark_core.createDataFrame(data, [\"id\", \"name\", \"dept\", \"salary\"])\n",
    "df2 = spark_core.createDataFrame(dept, [\"id\",\"name\"])"
   ]
  },
  {
   "cell_type": "code",
   "execution_count": 5,
   "id": "b3cb422d",
   "metadata": {},
   "outputs": [
    {
     "name": "stdout",
     "output_type": "stream",
     "text": [
      "+---+----+-----+------+\n",
      "| id|name| dept|salary|\n",
      "+---+----+-----+------+\n",
      "|  1| AAA|dept1|  1000|\n",
      "|  2| BBB|dept1|  1100|\n",
      "|  3| CCC|dept1|  3000|\n",
      "|  4| DDD|dept1|  1500|\n",
      "|  5| EEE|dept2|  8000|\n",
      "|  6| FFF|dept2|  7200|\n",
      "|  7| GGG|dept3|  7100|\n",
      "|  8| HHH|dept3|  3700|\n",
      "|  9| III|dept3|  4500|\n",
      "| 10| JJJ|dept5|  3400|\n",
      "+---+----+-----+------+\n",
      "\n"
     ]
    }
   ],
   "source": [
    "df.show()"
   ]
  },
  {
   "cell_type": "code",
   "execution_count": 6,
   "id": "23665915",
   "metadata": {},
   "outputs": [
    {
     "name": "stdout",
     "output_type": "stream",
     "text": [
      "+-----+---------------+\n",
      "|   id|           name|\n",
      "+-----+---------------+\n",
      "|dept1|Departament - 1|\n",
      "|dept2|Departament - 2|\n",
      "|dept3|Departament - 3|\n",
      "|dept4|Departament - 4|\n",
      "+-----+---------------+\n",
      "\n"
     ]
    }
   ],
   "source": [
    "df2.show()"
   ]
  },
  {
   "cell_type": "markdown",
   "id": "e845380a",
   "metadata": {},
   "source": [
    "# Joins\n",
    "![Join](https://miro.medium.com/v2/resize:fit:446/0*-Y8lKRffc5K6Cvxx.png) ![Join2](https://miro.medium.com/v2/resize:fit:1200/1*Lb3WTGX-N6HunApw-jT16g.png)\n"
   ]
  },
  {
   "cell_type": "markdown",
   "id": "52665f49",
   "metadata": {},
   "source": [
    "##### Inner Join"
   ]
  },
  {
   "cell_type": "code",
   "execution_count": 7,
   "id": "d581d928",
   "metadata": {},
   "outputs": [
    {
     "name": "stdout",
     "output_type": "stream",
     "text": [
      "+---+----+-----+------+-----+---------------+\n",
      "| id|name| dept|salary|   id|           name|\n",
      "+---+----+-----+------+-----+---------------+\n",
      "|  1| AAA|dept1|  1000|dept1|Departament - 1|\n",
      "|  2| BBB|dept1|  1100|dept1|Departament - 1|\n",
      "|  3| CCC|dept1|  3000|dept1|Departament - 1|\n",
      "|  4| DDD|dept1|  1500|dept1|Departament - 1|\n",
      "|  5| EEE|dept2|  8000|dept2|Departament - 2|\n",
      "|  6| FFF|dept2|  7200|dept2|Departament - 2|\n",
      "|  7| GGG|dept3|  7100|dept3|Departament - 3|\n",
      "|  8| HHH|dept3|  3700|dept3|Departament - 3|\n",
      "|  9| III|dept3|  4500|dept3|Departament - 3|\n",
      "+---+----+-----+------+-----+---------------+\n",
      "\n"
     ]
    }
   ],
   "source": [
    "df.join(df2, df[\"dept\"] == df2[\"id\"]).show()"
   ]
  },
  {
   "cell_type": "markdown",
   "id": "bc0aba68",
   "metadata": {},
   "source": [
    "##### Left Outer Join"
   ]
  },
  {
   "cell_type": "code",
   "execution_count": 8,
   "id": "92c725f7",
   "metadata": {},
   "outputs": [
    {
     "name": "stdout",
     "output_type": "stream",
     "text": [
      "+---+----+-----+------+-----+---------------+\n",
      "| id|name| dept|salary|   id|           name|\n",
      "+---+----+-----+------+-----+---------------+\n",
      "|  1| AAA|dept1|  1000|dept1|Departament - 1|\n",
      "|  2| BBB|dept1|  1100|dept1|Departament - 1|\n",
      "|  3| CCC|dept1|  3000|dept1|Departament - 1|\n",
      "|  4| DDD|dept1|  1500|dept1|Departament - 1|\n",
      "|  5| EEE|dept2|  8000|dept2|Departament - 2|\n",
      "| 10| JJJ|dept5|  3400| null|           null|\n",
      "|  7| GGG|dept3|  7100|dept3|Departament - 3|\n",
      "|  8| HHH|dept3|  3700|dept3|Departament - 3|\n",
      "|  9| III|dept3|  4500|dept3|Departament - 3|\n",
      "|  6| FFF|dept2|  7200|dept2|Departament - 2|\n",
      "+---+----+-----+------+-----+---------------+\n",
      "\n"
     ]
    }
   ],
   "source": [
    "df.join(df2, df[\"dept\"] == df2[\"id\"], \"left_outer\").show()"
   ]
  },
  {
   "cell_type": "markdown",
   "id": "29a4a650",
   "metadata": {},
   "source": [
    "##### Right Outer Join"
   ]
  },
  {
   "cell_type": "code",
   "execution_count": 9,
   "id": "505ad6b7",
   "metadata": {},
   "outputs": [
    {
     "name": "stdout",
     "output_type": "stream",
     "text": [
      "+----+----+-----+------+-----+---------------+\n",
      "|  id|name| dept|salary|   id|           name|\n",
      "+----+----+-----+------+-----+---------------+\n",
      "|   4| DDD|dept1|  1500|dept1|Departament - 1|\n",
      "|   3| CCC|dept1|  3000|dept1|Departament - 1|\n",
      "|   2| BBB|dept1|  1100|dept1|Departament - 1|\n",
      "|   1| AAA|dept1|  1000|dept1|Departament - 1|\n",
      "|   6| FFF|dept2|  7200|dept2|Departament - 2|\n",
      "|   5| EEE|dept2|  8000|dept2|Departament - 2|\n",
      "|   9| III|dept3|  4500|dept3|Departament - 3|\n",
      "|   8| HHH|dept3|  3700|dept3|Departament - 3|\n",
      "|   7| GGG|dept3|  7100|dept3|Departament - 3|\n",
      "|null|null| null|  null|dept4|Departament - 4|\n",
      "+----+----+-----+------+-----+---------------+\n",
      "\n"
     ]
    }
   ],
   "source": [
    "df.join(df2, df[\"dept\"] == df2[\"id\"], \"right_outer\").show()"
   ]
  },
  {
   "cell_type": "markdown",
   "id": "c49922ca",
   "metadata": {},
   "source": [
    "##### Full Outer Join"
   ]
  },
  {
   "cell_type": "code",
   "execution_count": 10,
   "id": "8ff096c1",
   "metadata": {},
   "outputs": [
    {
     "name": "stdout",
     "output_type": "stream",
     "text": [
      "+----+----+-----+------+-----+---------------+\n",
      "|  id|name| dept|salary|   id|           name|\n",
      "+----+----+-----+------+-----+---------------+\n",
      "|   1| AAA|dept1|  1000|dept1|Departament - 1|\n",
      "|   2| BBB|dept1|  1100|dept1|Departament - 1|\n",
      "|   3| CCC|dept1|  3000|dept1|Departament - 1|\n",
      "|   4| DDD|dept1|  1500|dept1|Departament - 1|\n",
      "|   5| EEE|dept2|  8000|dept2|Departament - 2|\n",
      "|   6| FFF|dept2|  7200|dept2|Departament - 2|\n",
      "|   7| GGG|dept3|  7100|dept3|Departament - 3|\n",
      "|   8| HHH|dept3|  3700|dept3|Departament - 3|\n",
      "|   9| III|dept3|  4500|dept3|Departament - 3|\n",
      "|null|null| null|  null|dept4|Departament - 4|\n",
      "|  10| JJJ|dept5|  3400| null|           null|\n",
      "+----+----+-----+------+-----+---------------+\n",
      "\n"
     ]
    }
   ],
   "source": [
    "df.join(df2, df[\"dept\"] == df2[\"id\"], \"outer\").show()"
   ]
  },
  {
   "cell_type": "markdown",
   "id": "41e20a21",
   "metadata": {},
   "source": [
    "##### Left Join"
   ]
  },
  {
   "cell_type": "code",
   "execution_count": 19,
   "id": "2bf1b40b",
   "metadata": {},
   "outputs": [
    {
     "name": "stdout",
     "output_type": "stream",
     "text": [
      "+---+----+-----+------+-----+---------------+\n",
      "| id|name| dept|salary|   id|           name|\n",
      "+---+----+-----+------+-----+---------------+\n",
      "|  7| GGG|dept3|  7100|dept3|Departament - 3|\n",
      "|  1| AAA|dept1|  1000|dept1|Departament - 1|\n",
      "|  2| BBB|dept1|  1100|dept1|Departament - 1|\n",
      "|  3| CCC|dept1|  3000|dept1|Departament - 1|\n",
      "|  4| DDD|dept1|  1500|dept1|Departament - 1|\n",
      "|  5| EEE|dept2|  8000|dept2|Departament - 2|\n",
      "|  6| FFF|dept2|  7200|dept2|Departament - 2|\n",
      "| 10| JJJ|dept5|  3400| null|           null|\n",
      "| 11| KKK|dept5|  3100| null|           null|\n",
      "| 12| KFK|dept5|  3100| null|           null|\n",
      "| 13| KKF|dept5|  3100| null|           null|\n",
      "|  8| HHH|dept3|  3700|dept3|Departament - 3|\n",
      "|  9| III|dept3|  4500|dept3|Departament - 3|\n",
      "| 14| KBV|dept6|  4100| null|           null|\n",
      "+---+----+-----+------+-----+---------------+\n",
      "\n"
     ]
    }
   ],
   "source": [
    "df.join(df2, df[\"dept\"] == df2[\"id\"], \"left\").show()"
   ]
  },
  {
   "cell_type": "markdown",
   "id": "a766d90e",
   "metadata": {},
   "source": [
    "##### Right Join"
   ]
  },
  {
   "cell_type": "code",
   "execution_count": 20,
   "id": "1afa0348",
   "metadata": {},
   "outputs": [
    {
     "name": "stdout",
     "output_type": "stream",
     "text": [
      "+----+----+-----+------+-----+---------------+\n",
      "|  id|name| dept|salary|   id|           name|\n",
      "+----+----+-----+------+-----+---------------+\n",
      "|   4| DDD|dept1|  1500|dept1|Departament - 1|\n",
      "|   3| CCC|dept1|  3000|dept1|Departament - 1|\n",
      "|   2| BBB|dept1|  1100|dept1|Departament - 1|\n",
      "|   1| AAA|dept1|  1000|dept1|Departament - 1|\n",
      "|   6| FFF|dept2|  7200|dept2|Departament - 2|\n",
      "|   5| EEE|dept2|  8000|dept2|Departament - 2|\n",
      "|   9| III|dept3|  4500|dept3|Departament - 3|\n",
      "|   8| HHH|dept3|  3700|dept3|Departament - 3|\n",
      "|   7| GGG|dept3|  7100|dept3|Departament - 3|\n",
      "|null|null| null|  null|dept4|Departament - 4|\n",
      "+----+----+-----+------+-----+---------------+\n",
      "\n"
     ]
    }
   ],
   "source": [
    "df.join(df2, df[\"dept\"] == df2[\"id\"], \"right\").show()"
   ]
  },
  {
   "cell_type": "markdown",
   "id": "75b6d88b",
   "metadata": {},
   "source": [
    "##### Consultas SQL\n",
    "- Ejecucion de consulta de tipo SQL\n",
    "- Tambien podemos realizar analisis de datos escribiendo consultas similares a SQL. Para realizar consultas similares a SQL, necesitamos registrar el dataframe como una vista temporal"
   ]
  },
  {
   "cell_type": "code",
   "execution_count": 13,
   "id": "52eeb571",
   "metadata": {},
   "outputs": [
    {
     "name": "stdout",
     "output_type": "stream",
     "text": [
      "+---+----+-----+------+\n",
      "| id|name| dept|salary|\n",
      "+---+----+-----+------+\n",
      "|  1| AAA|dept1|  1000|\n",
      "+---+----+-----+------+\n",
      "\n"
     ]
    }
   ],
   "source": [
    "# Register of Dataframe as Temporary Table (temp_table)\n",
    "df.createOrReplaceTempView(\"temp_table\")\n",
    "\n",
    "# Execute SQL like query\n",
    "spark_core.sql(\"select * from temp_table where id = 1\").show()"
   ]
  },
  {
   "cell_type": "code",
   "execution_count": 14,
   "id": "11a195e0",
   "metadata": {},
   "outputs": [
    {
     "name": "stdout",
     "output_type": "stream",
     "text": [
      "+---+\n",
      "| id|\n",
      "+---+\n",
      "|  5|\n",
      "|  1|\n",
      "|  3|\n",
      "|  2|\n",
      "|  4|\n",
      "|  7|\n",
      "|  6|\n",
      "|  9|\n",
      "| 10|\n",
      "|  8|\n",
      "+---+\n",
      "\n"
     ]
    }
   ],
   "source": [
    "spark_core.sql(\"select distinct id from temp_table\").show()"
   ]
  },
  {
   "cell_type": "code",
   "execution_count": 16,
   "id": "53328c0e",
   "metadata": {},
   "outputs": [
    {
     "name": "stdout",
     "output_type": "stream",
     "text": [
      "+---+----+-----+------+\n",
      "| id|name| dept|salary|\n",
      "+---+----+-----+------+\n",
      "|  3| CCC|dept1|  3000|\n",
      "|  4| DDD|dept1|  1500|\n",
      "|  5| EEE|dept2|  8000|\n",
      "|  6| FFF|dept2|  7200|\n",
      "|  7| GGG|dept3|  7100|\n",
      "|  8| HHH|dept3|  3700|\n",
      "|  9| III|dept3|  4500|\n",
      "| 10| JJJ|dept5|  3400|\n",
      "+---+----+-----+------+\n",
      "\n"
     ]
    }
   ],
   "source": [
    "spark_core.sql(\"select * from temp_table where salary >= 1500\").show()"
   ]
  },
  {
   "cell_type": "code",
   "execution_count": 17,
   "id": "c4a0256c",
   "metadata": {},
   "outputs": [
    {
     "name": "stdout",
     "output_type": "stream",
     "text": [
      "+---+----+-----+------+\n",
      "| id|name| dept|salary|\n",
      "+---+----+-----+------+\n",
      "|  5| EEE|dept2|  8000|\n",
      "|  6| FFF|dept2|  7200|\n",
      "|  7| GGG|dept3|  7100|\n",
      "+---+----+-----+------+\n",
      "\n"
     ]
    }
   ],
   "source": [
    "spark_core.sql(\"select * from temp_table where salary >= 7000\").show()"
   ]
  },
  {
   "cell_type": "markdown",
   "id": "b5ccfdca",
   "metadata": {},
   "source": [
    "##### Leyendo la tabla HIVE como Dataframe"
   ]
  },
  {
   "cell_type": "code",
   "execution_count": null,
   "id": "4416a0fc",
   "metadata": {},
   "outputs": [],
   "source": [
    "# DB_NAME : Name of the HIVE Database\n",
    "# TBL_Name : Name of the HIVE Table\n",
    "\n",
    "df = spark_core.table(\"DB_NAME\", \"TBL_NAME\")"
   ]
  },
  {
   "cell_type": "markdown",
   "id": "791f926c",
   "metadata": {},
   "source": [
    "##### Guardar el Dataframe como una tabla externa HIVE"
   ]
  },
  {
   "cell_type": "code",
   "execution_count": null,
   "id": "94d7e23b",
   "metadata": {},
   "outputs": [],
   "source": [
    "df.write.saveAsTable(\"DB_NAME.TBL_NAME\", path=<location_of_external_table>)"
   ]
  },
  {
   "cell_type": "markdown",
   "id": "f481a96b",
   "metadata": {},
   "source": [
    "##### Crea un Dataframe a partir de un archivo CSV"
   ]
  },
  {
   "cell_type": "code",
   "execution_count": null,
   "id": "d7b3546a",
   "metadata": {},
   "outputs": [],
   "source": [
    "df = spark_core.read.csv(\"path_to_csv_file\", sep=\"|\", header= True, inferSchema=True)"
   ]
  },
  {
   "cell_type": "markdown",
   "id": "069cca7d",
   "metadata": {},
   "source": [
    "##### Guarda un Dataframe como un archivo CSV"
   ]
  },
  {
   "cell_type": "code",
   "execution_count": null,
   "id": "75a334c8",
   "metadata": {},
   "outputs": [],
   "source": [
    "df.write.csv(\"path_to_csv_file\", sep=\"|\", header= True, mode=\"overwrite\")"
   ]
  },
  {
   "cell_type": "markdown",
   "id": "99f838ed",
   "metadata": {},
   "source": [
    "##### Crea un Dataframe a partir de una tabla relacional"
   ]
  },
  {
   "cell_type": "code",
   "execution_count": null,
   "id": "4caca906",
   "metadata": {},
   "outputs": [],
   "source": [
    "# url : JDBC URL of the form jdbc:subprotocol:subname\n",
    "# TBL_NAME : Name of the relational table\n",
    "# USER_NAME : User name to connect to Database\n",
    "# PASSWORD: Password to connect to Database\n",
    "\n",
    "relational_df = spark_core.read.format('jdbc') /\n",
    "    .options(url = url, dbtable = <TBL_NAME>, user = <USER_NAME>, password = <PASSWORD>) /\n",
    "    .load()"
   ]
  },
  {
   "cell_type": "markdown",
   "id": "32d83c58",
   "metadata": {},
   "source": [
    "##### Guardar el Dataframe como una tabla relacional\n",
    "- Podemos guardar el Dataframe como una tabla relacional usando una URL JDBC"
   ]
  },
  {
   "cell_type": "code",
   "execution_count": null,
   "id": "ff2ca5f2",
   "metadata": {},
   "outputs": [],
   "source": [
    "relational_df.write.format('jdbc') \\\n",
    "    .options(url = url, dbtable = <TBL_NAME>, user = <USER_NAME>, password = <PASSWORD>) \\\n",
    "    .mode('overwrite') \\\n",
    "    .save()"
   ]
  }
 ],
 "metadata": {
  "kernelspec": {
   "display_name": "Python 3.8.17 ('env')",
   "language": "python",
   "name": "python3"
  },
  "language_info": {
   "codemirror_mode": {
    "name": "ipython",
    "version": 3
   },
   "file_extension": ".py",
   "mimetype": "text/x-python",
   "name": "python",
   "nbconvert_exporter": "python",
   "pygments_lexer": "ipython3",
   "version": "3.8.17"
  },
  "vscode": {
   "interpreter": {
    "hash": "944c19f52a24f95874af1a0965923405492a6b817585bc3c2ef5cb7556d69262"
   }
  }
 },
 "nbformat": 4,
 "nbformat_minor": 5
}
