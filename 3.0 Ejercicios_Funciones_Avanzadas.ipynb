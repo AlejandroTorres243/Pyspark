{
 "cells": [
  {
   "cell_type": "markdown",
   "metadata": {},
   "source": [
    "### Expresiones SQL\n",
    "##### Tambien podemos usar la expresion SQL para la manipulacion de datos.\n",
    "##### Tenemos la funcion **expr** y tambien una variante de un metodo de seleccion como **selectExpr** para la evaluacion de expresiones SQL"
   ]
  },
  {
   "cell_type": "code",
   "execution_count": 2,
   "metadata": {},
   "outputs": [],
   "source": [
    "import findspark\n",
    "findspark.init()"
   ]
  },
  {
   "cell_type": "code",
   "execution_count": 3,
   "metadata": {},
   "outputs": [],
   "source": [
    "from pyspark.sql import SparkSession\n",
    "from pyspark.sql.functions import *\n",
    "from pyspark.sql.types import *"
   ]
  },
  {
   "cell_type": "markdown",
   "metadata": {},
   "source": [
    "#### Crea la sesion de SparkSession"
   ]
  },
  {
   "cell_type": "code",
   "execution_count": 4,
   "metadata": {},
   "outputs": [],
   "source": [
    "spark = SparkSession.builder.getOrCreate()"
   ]
  },
  {
   "cell_type": "markdown",
   "metadata": {},
   "source": [
    "#### Creamos el dataframe"
   ]
  },
  {
   "cell_type": "code",
   "execution_count": 5,
   "metadata": {},
   "outputs": [],
   "source": [
    "data = [(1, \"AAA\", \"dept1\", 1000),\n",
    "        (2, \"BBB\", \"dept1\", 1100),\n",
    "        (3, \"CCC\", \"dept1\", 3000),\n",
    "        (4, \"DDD\", \"dept1\", 1500),\n",
    "        (5, \"EEE\", \"dept2\", 8000),\n",
    "        (6, \"FFF\", \"dept2\", 7200),\n",
    "        (7, \"GGG\", \"dept3\", 7100),\n",
    "        (8, \"HHH\", \"dept3\", 3700),\n",
    "        (9, \"III\", \"dept3\", 4500),\n",
    "        (10, \"JJJ\", \"dept5\", 3400),\n",
    "        (11, \"KKK\", \"dept5\", 3100),\n",
    "        (12, \"KFK\", \"dept5\", 3100),\n",
    "        (13, \"KKF\", \"dept5\", 3100),\n",
    "        (14, \"KBV\", \"dept6\", 4100),\n",
    "        (15, None, None, 1000),\n",
    "        (16, None, None, 1000),\n",
    "        (17, None, None, 1000),\n",
    "        (18, \"TKA\", None, 1000),\n",
    "        (19, None, \"dept7\", 1000),\n",
    "        (20, None, \"dept8\", 1000)]\n",
    "\n",
    "dept = [(\"dept1\", \"Departament - 1\"),\n",
    "        (\"dept2\", \"Departament - 2\"),\n",
    "        (\"dept3\", \"Departament - 3\"),\n",
    "        (\"dept4\", \"Departament - 4\")]\n",
    "\n",
    "columns =  [\"id\", \"name\", \"dept\", \"salary\"]"
   ]
  },
  {
   "cell_type": "code",
   "execution_count": 6,
   "metadata": {},
   "outputs": [],
   "source": [
    "df = spark.createDataFrame(data, columns)\n",
    "df2 = spark.createDataFrame(dept, columns[:2])"
   ]
  },
  {
   "cell_type": "code",
   "execution_count": 7,
   "metadata": {},
   "outputs": [
    {
     "name": "stdout",
     "output_type": "stream",
     "text": [
      "+---+----+-----+------+------------+\n",
      "| id|name| dept|salary|salary_level|\n",
      "+---+----+-----+------+------------+\n",
      "|  1| AAA|dept1|  1000|  low_salary|\n",
      "|  2| BBB|dept1|  1100|  low_salary|\n",
      "|  3| CCC|dept1|  3000|  mid_salary|\n",
      "|  4| DDD|dept1|  1500|  low_salary|\n",
      "|  5| EEE|dept2|  8000| high_salary|\n",
      "|  6| FFF|dept2|  7200| high_salary|\n",
      "|  7| GGG|dept3|  7100| high_salary|\n",
      "|  8| HHH|dept3|  3700|  mid_salary|\n",
      "|  9| III|dept3|  4500|  mid_salary|\n",
      "| 10| JJJ|dept5|  3400|  mid_salary|\n",
      "| 11| KKK|dept5|  3100|  mid_salary|\n",
      "| 12| KFK|dept5|  3100|  mid_salary|\n",
      "| 13| KKF|dept5|  3100|  mid_salary|\n",
      "| 14| KBV|dept6|  4100|  mid_salary|\n",
      "| 15|null| null|  1000|  low_salary|\n",
      "| 16|null| null|  1000|  low_salary|\n",
      "| 17|null| null|  1000|  low_salary|\n",
      "| 18| TKA| null|  1000|  low_salary|\n",
      "| 19|null|dept7|  1000|  low_salary|\n",
      "| 20|null|dept8|  1000|  low_salary|\n",
      "+---+----+-----+------+------------+\n",
      "\n"
     ]
    }
   ],
   "source": [
    "from pyspark.sql.functions import expr\n",
    "\n",
    "# Intentamos categorizar el salario en Baja, Medio y Alto segun la categorizacion a continuacion\n",
    "# 0 - 2000 : Salario Bajo (low)\n",
    "# 2001 - 5000 : Salario Medio (mid)\n",
    "# > 5001 : Salario Alto (high)\n",
    "\n",
    "cond = \"\"\" case when salary > 5000 then 'high_salary'\n",
    "            else case when salary > 2000 then 'mid_salary'\n",
    "                else case when salary > 0 then 'low_salary'\n",
    "                    else 'invalid_salary' \n",
    "                        end\n",
    "                    end\n",
    "            end as salary_level\"\"\"\n",
    "\n",
    "newdf = df.withColumn(\"salary_level\", expr(cond))\n",
    "newdf.show()"
   ]
  },
  {
   "cell_type": "markdown",
   "metadata": {},
   "source": [
    "#### Uso de la funcion **selectExpr**"
   ]
  },
  {
   "cell_type": "code",
   "execution_count": 8,
   "metadata": {},
   "outputs": [
    {
     "name": "stdout",
     "output_type": "stream",
     "text": [
      "+---+----+-----+------+------------+\n",
      "| id|name| dept|salary|salary_level|\n",
      "+---+----+-----+------+------------+\n",
      "|  1| AAA|dept1|  1000|  low_salary|\n",
      "|  2| BBB|dept1|  1100|  low_salary|\n",
      "|  3| CCC|dept1|  3000|  mid_salary|\n",
      "|  4| DDD|dept1|  1500|  low_salary|\n",
      "|  5| EEE|dept2|  8000| high_salary|\n",
      "|  6| FFF|dept2|  7200| high_salary|\n",
      "|  7| GGG|dept3|  7100| high_salary|\n",
      "|  8| HHH|dept3|  3700|  mid_salary|\n",
      "|  9| III|dept3|  4500|  mid_salary|\n",
      "| 10| JJJ|dept5|  3400|  mid_salary|\n",
      "| 11| KKK|dept5|  3100|  mid_salary|\n",
      "| 12| KFK|dept5|  3100|  mid_salary|\n",
      "| 13| KKF|dept5|  3100|  mid_salary|\n",
      "| 14| KBV|dept6|  4100|  mid_salary|\n",
      "| 15|null| null|  1000|  low_salary|\n",
      "| 16|null| null|  1000|  low_salary|\n",
      "| 17|null| null|  1000|  low_salary|\n",
      "| 18| TKA| null|  1000|  low_salary|\n",
      "| 19|null|dept7|  1000|  low_salary|\n",
      "| 20|null|dept8|  1000|  low_salary|\n",
      "+---+----+-----+------+------------+\n",
      "\n"
     ]
    }
   ],
   "source": [
    "newdf2 = df.selectExpr(\"*\",cond)\n",
    "newdf2.show()"
   ]
  },
  {
   "cell_type": "code",
   "execution_count": 21,
   "metadata": {},
   "outputs": [
    {
     "name": "stdout",
     "output_type": "stream",
     "text": [
      "+------------+-----+\n",
      "|salary_level|count|\n",
      "+------------+-----+\n",
      "| high_salary|    3|\n",
      "|  low_salary|    9|\n",
      "|  mid_salary|    8|\n",
      "+------------+-----+\n",
      "\n"
     ]
    }
   ],
   "source": [
    "newdf2 = df.selectExpr(\"*\",cond).groupBy('salary_level').count().show()"
   ]
  },
  {
   "cell_type": "markdown",
   "metadata": {},
   "source": [
    "### Funcion definida por el usuario (UDF)\n",
    "##### A menudo necesitamos escribir la funcion en funcion de nuestro **REQUISITO** muy especifico. \n",
    "##### Aqui podemos aprovechar los UDFs. \n",
    "##### Podemos escribir nuestras propias funciones en un lenguaje como python y registrar la funcion como udf, luego podemos usar la funcion para operaciones de dataframe"
   ]
  },
  {
   "cell_type": "code",
   "execution_count": 28,
   "metadata": {},
   "outputs": [],
   "source": [
    "def datSalary_Level(sal):\n",
    "    level = None\n",
    "    if(sal > 5000):\n",
    "        level = 'high_salary'\n",
    "    elif(sal > 2000):\n",
    "        level = 'mid_salary'\n",
    "    elif(sal > 0):\n",
    "        level = 'low_salary'\n",
    "    else:\n",
    "        level = 'invalid_salary'\n",
    "    return level\n",
    "\n",
    "def datSalary_Brute(sal):\n",
    "    brute = sal * 31\n",
    "    return brute"
   ]
  },
  {
   "cell_type": "markdown",
   "metadata": {},
   "source": [
    "- Luego registre la funcion datSalary_Level como UDF"
   ]
  },
  {
   "cell_type": "code",
   "execution_count": 31,
   "metadata": {},
   "outputs": [],
   "source": [
    "sal_level = udf(datSalary_Level, StringType())\n",
    "sal_brute = udf(datSalary_Brute, IntegerType())"
   ]
  },
  {
   "cell_type": "markdown",
   "metadata": {},
   "source": [
    "#### Luego se aplica para determinar el salario level para un salario dado."
   ]
  },
  {
   "cell_type": "code",
   "execution_count": 32,
   "metadata": {},
   "outputs": [
    {
     "name": "stdout",
     "output_type": "stream",
     "text": [
      "+---+----+-----+------+------------+\n",
      "| id|name| dept|salary|salary_brute|\n",
      "+---+----+-----+------+------------+\n",
      "|  1| AAA|dept1|  1000|       31000|\n",
      "|  2| BBB|dept1|  1100|       34100|\n",
      "|  3| CCC|dept1|  3000|       93000|\n",
      "|  4| DDD|dept1|  1500|       46500|\n",
      "|  5| EEE|dept2|  8000|      248000|\n",
      "|  6| FFF|dept2|  7200|      223200|\n",
      "|  7| GGG|dept3|  7100|      220100|\n",
      "|  8| HHH|dept3|  3700|      114700|\n",
      "|  9| III|dept3|  4500|      139500|\n",
      "| 10| JJJ|dept5|  3400|      105400|\n",
      "| 11| KKK|dept5|  3100|       96100|\n",
      "| 12| KFK|dept5|  3100|       96100|\n",
      "| 13| KKF|dept5|  3100|       96100|\n",
      "| 14| KBV|dept6|  4100|      127100|\n",
      "| 15|null| null|  1000|       31000|\n",
      "| 16|null| null|  1000|       31000|\n",
      "| 17|null| null|  1000|       31000|\n",
      "| 18| TKA| null|  1000|       31000|\n",
      "| 19|null|dept7|  1000|       31000|\n",
      "| 20|null|dept8|  1000|       31000|\n",
      "+---+----+-----+------+------------+\n",
      "\n"
     ]
    }
   ],
   "source": [
    "newdf_udf = df.withColumn('salary_level', sal_level(\"salary\"))\n",
    "newdf_udf = df.withColumn('salary_brute', sal_brute('salary'))\n",
    "newdf_udf.show()"
   ]
  },
  {
   "cell_type": "code",
   "execution_count": null,
   "metadata": {},
   "outputs": [],
   "source": []
  }
 ],
 "metadata": {
  "kernelspec": {
   "display_name": "Python 3.8.17 ('env')",
   "language": "python",
   "name": "python3"
  },
  "language_info": {
   "codemirror_mode": {
    "name": "ipython",
    "version": 3
   },
   "file_extension": ".py",
   "mimetype": "text/x-python",
   "name": "python",
   "nbconvert_exporter": "python",
   "pygments_lexer": "ipython3",
   "version": "3.8.17"
  },
  "orig_nbformat": 4,
  "vscode": {
   "interpreter": {
    "hash": "944c19f52a24f95874af1a0965923405492a6b817585bc3c2ef5cb7556d69262"
   }
  }
 },
 "nbformat": 4,
 "nbformat_minor": 2
}
